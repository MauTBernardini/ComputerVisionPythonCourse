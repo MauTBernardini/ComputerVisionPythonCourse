{
 "cells": [
  {
   "cell_type": "markdown",
   "metadata": {},
   "source": [
    "# 0. Imports"
   ]
  },
  {
   "cell_type": "code",
   "execution_count": 7,
   "metadata": {},
   "outputs": [],
   "source": [
    "import numpy as np\n",
    "import matplotlib.pyplot as plt\n",
    "import matplotlib.patches as patches\n",
    "import cv2\n",
    "import imutils"
   ]
  },
  {
   "cell_type": "markdown",
   "metadata": {},
   "source": [
    "# 1. Single Object Tracking"
   ]
  },
  {
   "cell_type": "code",
   "execution_count": 8,
   "metadata": {},
   "outputs": [],
   "source": [
    "tracking_dict = {'csrt':cv2.TrackerCSRT_create,\n",
    "                 'kcf':cv2.TrackerKCF_create,\n",
    "                 'boosting':cv2.legacy.TrackerBoosting_create,\n",
    "                 'mil':cv2.TrackerMIL_create,\n",
    "                 'tld':cv2.legacy.TrackerTLD_create,\n",
    "                 'medianflow':cv2.legacy.TrackerMedianFlow_create,\n",
    "                 'mosse':cv2.legacy.TrackerMOSSE_create}"
   ]
  },
  {
   "cell_type": "code",
   "execution_count": 9,
   "metadata": {},
   "outputs": [
    {
     "data": {
      "text/plain": [
       "True"
      ]
     },
     "execution_count": 9,
     "metadata": {},
     "output_type": "execute_result"
    }
   ],
   "source": [
    "tracker = tracking_dict['mosse']()\n",
    "#video = cv2.VideoCapture('people_video.mp4')\n",
    "video = cv2.VideoCapture(0) # to read webcam\n",
    "\n",
    "ret, frame = video.read()\n",
    "frame = imutils.resize(frame, width=min(400, frame.shape[1]))\n",
    "\n",
    "cv2.imshow('frame', frame)\n",
    "bbox = cv2.selectROI('frame', frame)\n",
    "tracker.init(frame, bbox)"
   ]
  },
  {
   "cell_type": "code",
   "execution_count": 10,
   "metadata": {},
   "outputs": [],
   "source": [
    "# tracker = tracking_dict['csrt']()\n",
    "# video = cv2.VideoCapture('people_video.mp4')\n",
    "while True:\n",
    "    ret, frame = video.read()\n",
    "    frame = imutils.resize(frame, width=min(400, frame.shape[1]))\n",
    "    if not ret:\n",
    "        break\n",
    "    (success, box) = tracker.update(frame)\n",
    "    if success:\n",
    "        (x, y, w, h) = [int(v) for v in box]\n",
    "        cv2.rectangle(frame, (x, y), (x+w, y+h), (0, 255, 0), 2)\n",
    "    cv2.imshow('frame', frame)\n",
    "    key =  cv2.waitKey(5) & 0xFF\n",
    "    if key == ord('q'):\n",
    "        break\n",
    "video.release()\n",
    "cv2.destroyAllWindows()"
   ]
  },
  {
   "cell_type": "markdown",
   "metadata": {},
   "source": [
    "# 2. Multiple Object Tracking"
   ]
  },
  {
   "cell_type": "code",
   "execution_count": 2,
   "metadata": {},
   "outputs": [],
   "source": [
    "tracking_dict = {'csrt':cv2.TrackerCSRT_create,\n",
    "                 'kcf':cv2.TrackerKCF_create,\n",
    "                 'boosting':cv2.legacy.TrackerBoosting_create,\n",
    "                 'mil':cv2.TrackerMIL_create,\n",
    "                 'tld':cv2.legacy.TrackerTLD_create,\n",
    "                 'medianflow':cv2.legacy.TrackerMedianFlow_create,\n",
    "                 'mosse':cv2.legacy.TrackerMOSSE_create}"
   ]
  },
  {
   "cell_type": "code",
   "execution_count": null,
   "metadata": {},
   "outputs": [],
   "source": [
    "trackers = cv2.legacy.MultiTracker_create()\n",
    "video = cv2.VideoCapture('people_video.mp4')\n",
    "\n",
    "ret, frame = video.read()\n",
    "frame = imutils.resize(frame, width=min(400, frame.shape[1]))\n",
    "\n",
    "k = 3\n",
    "for i in range(k):\n",
    "    cv2.imshow('Frame', frame)\n",
    "    bboxi = cv2.selectROI('Frame', frame)\n",
    "    tracker_i = tracking_dict['csrt']()\n",
    "    trackers.add(cv2.legacy.TrackerCSRT_create(), frame, bboxi)"
   ]
  },
  {
   "cell_type": "code",
   "execution_count": 6,
   "metadata": {},
   "outputs": [
    {
     "ename": "KeyboardInterrupt",
     "evalue": "",
     "output_type": "error",
     "traceback": [
      "\u001b[1;31m---------------------------------------------------------------------------\u001b[0m",
      "\u001b[1;31mKeyboardInterrupt\u001b[0m                         Traceback (most recent call last)",
      "Cell \u001b[1;32mIn[6], line 3\u001b[0m\n\u001b[0;32m      1\u001b[0m \u001b[38;5;28;01mwhile\u001b[39;00m \u001b[38;5;28;01mTrue\u001b[39;00m:\n\u001b[0;32m      2\u001b[0m     ret, frame \u001b[38;5;241m=\u001b[39m video\u001b[38;5;241m.\u001b[39mread()\n\u001b[1;32m----> 3\u001b[0m     frame \u001b[38;5;241m=\u001b[39m \u001b[43mimutils\u001b[49m\u001b[38;5;241;43m.\u001b[39;49m\u001b[43mresize\u001b[49m\u001b[43m(\u001b[49m\u001b[43mframe\u001b[49m\u001b[43m,\u001b[49m\u001b[43m \u001b[49m\u001b[43mwidth\u001b[49m\u001b[38;5;241;43m=\u001b[39;49m\u001b[38;5;28;43mmin\u001b[39;49m\u001b[43m(\u001b[49m\u001b[38;5;241;43m400\u001b[39;49m\u001b[43m,\u001b[49m\u001b[43m \u001b[49m\u001b[43mframe\u001b[49m\u001b[38;5;241;43m.\u001b[39;49m\u001b[43mshape\u001b[49m\u001b[43m[\u001b[49m\u001b[38;5;241;43m1\u001b[39;49m\u001b[43m]\u001b[49m\u001b[43m)\u001b[49m\u001b[43m)\u001b[49m\n\u001b[0;32m      4\u001b[0m     \u001b[38;5;28;01mif\u001b[39;00m \u001b[38;5;129;01mnot\u001b[39;00m ret:\n\u001b[0;32m      5\u001b[0m         \u001b[38;5;28;01mbreak\u001b[39;00m\n",
      "File \u001b[1;32m~\\AppData\\Local\\Packages\\PythonSoftwareFoundation.Python.3.11_qbz5n2kfra8p0\\LocalCache\\local-packages\\Python311\\site-packages\\imutils\\convenience.py:91\u001b[0m, in \u001b[0;36mresize\u001b[1;34m(image, width, height, inter)\u001b[0m\n\u001b[0;32m     88\u001b[0m     dim \u001b[38;5;241m=\u001b[39m (width, \u001b[38;5;28mint\u001b[39m(h \u001b[38;5;241m*\u001b[39m r))\n\u001b[0;32m     90\u001b[0m \u001b[38;5;66;03m# resize the image\u001b[39;00m\n\u001b[1;32m---> 91\u001b[0m resized \u001b[38;5;241m=\u001b[39m \u001b[43mcv2\u001b[49m\u001b[38;5;241;43m.\u001b[39;49m\u001b[43mresize\u001b[49m\u001b[43m(\u001b[49m\u001b[43mimage\u001b[49m\u001b[43m,\u001b[49m\u001b[43m \u001b[49m\u001b[43mdim\u001b[49m\u001b[43m,\u001b[49m\u001b[43m \u001b[49m\u001b[43minterpolation\u001b[49m\u001b[38;5;241;43m=\u001b[39;49m\u001b[43minter\u001b[49m\u001b[43m)\u001b[49m\n\u001b[0;32m     93\u001b[0m \u001b[38;5;66;03m# return the resized image\u001b[39;00m\n\u001b[0;32m     94\u001b[0m \u001b[38;5;28;01mreturn\u001b[39;00m resized\n",
      "\u001b[1;31mKeyboardInterrupt\u001b[0m: "
     ]
    }
   ],
   "source": [
    "while True:\n",
    "    ret, frame = video.read()\n",
    "    frame = imutils.resize(frame, width=min(400, frame.shape[1]))\n",
    "    if not ret:\n",
    "        break\n",
    "    (success, box) = trackers.update(frame)\n",
    "    for bb in box:\n",
    "        (x, y, w, h) = [int(v) for v in bb]\n",
    "        cv2.rectangle(frame, (x, y), (x+w, y+h), (0, 255, 0), 2)\n",
    "    cv2.imshow('frame', frame)\n",
    "    key =  cv2.waitKey(5) & 0xFF\n",
    "    if key == ord('q'):\n",
    "        break\n",
    "video.release()\n",
    "cv2.destroyAllWindows()"
   ]
  },
  {
   "cell_type": "markdown",
   "metadata": {},
   "source": [
    "# 3. Saving Annotations"
   ]
  },
  {
   "cell_type": "code",
   "execution_count": 11,
   "metadata": {},
   "outputs": [],
   "source": [
    "tracking_dict = {'csrt':cv2.TrackerCSRT_create,\n",
    "                 'kcf':cv2.TrackerKCF_create,\n",
    "                 'boosting':cv2.legacy.TrackerBoosting_create,\n",
    "                 'mil':cv2.TrackerMIL_create,\n",
    "                 'tld':cv2.legacy.TrackerTLD_create,\n",
    "                 'medianflow':cv2.legacy.TrackerMedianFlow_create,\n",
    "                 'mosse':cv2.legacy.TrackerMOSSE_create}"
   ]
  },
  {
   "cell_type": "code",
   "execution_count": 12,
   "metadata": {},
   "outputs": [],
   "source": [
    "trackers = cv2.legacy.MultiTracker_create()\n",
    "video = cv2.VideoCapture('people_video.mp4')\n",
    "\n",
    "ret, frame = video.read()\n",
    "frame = imutils.resize(frame, width=min(400, frame.shape[1]))\n",
    "\n",
    "k = 3\n",
    "for i in range(k):\n",
    "    cv2.imshow('Frame', frame)\n",
    "    bboxi = cv2.selectROI('Frame', frame)\n",
    "    tracker_i = tracking_dict['csrt']()\n",
    "    trackers.add(cv2.legacy.TrackerCSRT_create(), frame, bboxi)"
   ]
  },
  {
   "cell_type": "code",
   "execution_count": null,
   "metadata": {},
   "outputs": [
    {
     "ename": "AttributeError",
     "evalue": "'NoneType' object has no attribute 'shape'",
     "output_type": "error",
     "traceback": [
      "\u001b[1;31m---------------------------------------------------------------------------\u001b[0m",
      "\u001b[1;31mAttributeError\u001b[0m                            Traceback (most recent call last)",
      "Cell \u001b[1;32mIn[13], line 6\u001b[0m\n\u001b[0;32m      4\u001b[0m \u001b[38;5;28;01mwhile\u001b[39;00m \u001b[38;5;28;01mTrue\u001b[39;00m:\n\u001b[0;32m      5\u001b[0m     ret, frame \u001b[38;5;241m=\u001b[39m video\u001b[38;5;241m.\u001b[39mread()\n\u001b[1;32m----> 6\u001b[0m     frame \u001b[38;5;241m=\u001b[39m imutils\u001b[38;5;241m.\u001b[39mresize(frame, width\u001b[38;5;241m=\u001b[39m\u001b[38;5;28mmin\u001b[39m(\u001b[38;5;241m400\u001b[39m, \u001b[43mframe\u001b[49m\u001b[38;5;241;43m.\u001b[39;49m\u001b[43mshape\u001b[49m[\u001b[38;5;241m1\u001b[39m]))\n\u001b[0;32m      7\u001b[0m     \u001b[38;5;28;01mif\u001b[39;00m \u001b[38;5;129;01mnot\u001b[39;00m ret:\n\u001b[0;32m      8\u001b[0m         \u001b[38;5;28;01mbreak\u001b[39;00m\n",
      "\u001b[1;31mAttributeError\u001b[0m: 'NoneType' object has no attribute 'shape'"
     ]
    },
    {
     "ename": "",
     "evalue": "",
     "output_type": "error",
     "traceback": [
      "\u001b[1;31mThe Kernel crashed while executing code in the current cell or a previous cell. \n",
      "\u001b[1;31mPlease review the code in the cell(s) to identify a possible cause of the failure. \n",
      "\u001b[1;31mClick <a href='https://aka.ms/vscodeJupyterKernelCrash'>here</a> for more info. \n",
      "\u001b[1;31mView Jupyter <a href='command:jupyter.viewOutput'>log</a> for further details."
     ]
    }
   ],
   "source": [
    "frameNumber = 2\n",
    "baseDir = r'tracking_results'\n",
    "\n",
    "while True:\n",
    "    ret, frame = video.read()\n",
    "    frame = imutils.resize(frame, width=min(400, frame.shape[1]))\n",
    "    if not ret:\n",
    "        break\n",
    "    (success, box) = trackers.update(frame)\n",
    "    np.savetxt(f'{baseDir}/frame_{frameNumber}.txt', box, fmt='%f')\n",
    "    frameNumber += 1\n",
    "    for bb in box:\n",
    "        (x, y, w, h) = [int(v) for v in bb]\n",
    "        cv2.rectangle(frame, (x, y), (x+w, y+h), (0, 255, 0), 2)\n",
    "    cv2.imshow('frame', frame)\n",
    "    key =  cv2.waitKey(5) & 0xFF\n",
    "    if key == ord('q'):\n",
    "        break\n",
    "video.release()\n",
    "cv2.destroyAllWindows()"
   ]
  }
 ],
 "metadata": {
  "kernelspec": {
   "display_name": "Python 3",
   "language": "python",
   "name": "python3"
  },
  "language_info": {
   "codemirror_mode": {
    "name": "ipython",
    "version": 3
   },
   "file_extension": ".py",
   "mimetype": "text/x-python",
   "name": "python",
   "nbconvert_exporter": "python",
   "pygments_lexer": "ipython3",
   "version": "3.11.9"
  }
 },
 "nbformat": 4,
 "nbformat_minor": 2
}
